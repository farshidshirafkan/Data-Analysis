{
  "nbformat": 4,
  "nbformat_minor": 0,
  "metadata": {
    "colab": {
      "provenance": [],
      "authorship_tag": "ABX9TyNkoANVSLvdrLH2Yyb9Nnlu",
      "include_colab_link": true
    },
    "kernelspec": {
      "name": "python3",
      "display_name": "Python 3"
    },
    "language_info": {
      "name": "python"
    }
  },
  "cells": [
    {
      "cell_type": "markdown",
      "metadata": {
        "id": "view-in-github",
        "colab_type": "text"
      },
      "source": [
        "<a href=\"https://colab.research.google.com/github/farshidshirafkan/Data-Analysis/blob/main/xlwt.ipynb\" target=\"_parent\"><img src=\"https://colab.research.google.com/assets/colab-badge.svg\" alt=\"Open In Colab\"/></a>"
      ]
    },
    {
      "cell_type": "code",
      "source": [
        "pip install xlwt"
      ],
      "metadata": {
        "colab": {
          "base_uri": "https://localhost:8080/"
        },
        "id": "JfRd0AoPtuQt",
        "outputId": "ea93b52f-c534-4bec-dd92-fd58e30108c7"
      },
      "execution_count": 2,
      "outputs": [
        {
          "output_type": "stream",
          "name": "stdout",
          "text": [
            "Collecting xlwt\n",
            "  Downloading xlwt-1.3.0-py2.py3-none-any.whl (99 kB)\n",
            "\u001b[2K     \u001b[90m━━━━━━━━━━━━━━━━━━━━━━━━━━━━━━━━━━━━━━━\u001b[0m \u001b[32m100.0/100.0 kB\u001b[0m \u001b[31m2.1 MB/s\u001b[0m eta \u001b[36m0:00:00\u001b[0m\n",
            "\u001b[?25hInstalling collected packages: xlwt\n",
            "Successfully installed xlwt-1.3.0\n"
          ]
        }
      ]
    },
    {
      "cell_type": "code",
      "execution_count": 1,
      "metadata": {
        "id": "Bm2bovShsQ7g",
        "colab": {
          "base_uri": "https://localhost:8080/",
          "height": 315
        },
        "outputId": "7c4b6ddf-08c1-4b3e-df7a-104b3321ba06"
      },
      "outputs": [
        {
          "output_type": "error",
          "ename": "ModuleNotFoundError",
          "evalue": "ignored",
          "traceback": [
            "\u001b[0;31m---------------------------------------------------------------------------\u001b[0m",
            "\u001b[0;31mModuleNotFoundError\u001b[0m                       Traceback (most recent call last)",
            "\u001b[0;32m<ipython-input-1-127bc0a259ea>\u001b[0m in \u001b[0;36m<cell line: 1>\u001b[0;34m()\u001b[0m\n\u001b[0;32m----> 1\u001b[0;31m \u001b[0;32mimport\u001b[0m \u001b[0mxlwt\u001b[0m\u001b[0;34m\u001b[0m\u001b[0;34m\u001b[0m\u001b[0m\n\u001b[0m",
            "\u001b[0;31mModuleNotFoundError\u001b[0m: No module named 'xlwt'",
            "",
            "\u001b[0;31m---------------------------------------------------------------------------\u001b[0;32m\nNOTE: If your import is failing due to a missing package, you can\nmanually install dependencies using either !pip or !apt.\n\nTo view examples of installing some common dependencies, click the\n\"Open Examples\" button below.\n\u001b[0;31m---------------------------------------------------------------------------\u001b[0m\n"
          ],
          "errorDetails": {
            "actions": [
              {
                "action": "open_url",
                "actionText": "Open Examples",
                "url": "/notebooks/snippets/importing_libraries.ipynb"
              }
            ]
          }
        }
      ],
      "source": [
        "import xlwt"
      ]
    },
    {
      "cell_type": "code",
      "source": [
        "wb = xlwt.Workbook(encoding='utf-8')\n",
        "ws = wb.add_sheet('Sheet1', cell_overwrite_ok=True)\n",
        "\n",
        "for i in range(5):\n",
        "    for j in range(5):\n",
        "        ws.write(i, j, i*j)\n",
        "\n",
        "wb.save('t.xls')"
      ],
      "metadata": {
        "id": "6qsa0726FT6L"
      },
      "execution_count": null,
      "outputs": []
    },
    {
      "cell_type": "code",
      "source": [],
      "metadata": {
        "id": "uEYSv_XLFqVz"
      },
      "execution_count": null,
      "outputs": []
    },
    {
      "cell_type": "code",
      "source": [
        "wb = xlwt.Workbook()\n",
        "\n",
        "sheet1 = wb.add_sheet('Sheet 1')\n",
        "sheet1.write(0, 0, 'Name')\n",
        "sheet1.write(0, 1, 'Age')\n",
        "sheet1.write(1, 0, 'Ali')\n",
        "sheet1.write(1, 1, '36')\n",
        "sheet1.write(2, 0, 'Nahid')\n",
        "sheet1.write(2, 1, '18')\n",
        "wb.save('testwt.xls')\n"
      ],
      "metadata": {
        "id": "ivWNmr6Itb8b"
      },
      "execution_count": null,
      "outputs": []
    },
    {
      "cell_type": "code",
      "source": [
        "sheet = wb.add_sheet(\"f\")\n",
        "sheet = wb.add_sheet(\"f\", cell_overwrite_ok = False)\n",
        "\n",
        "style = xlwt.easyxf('font: bold 1, color red;')\n",
        "sheet.write(0, 0, 'farshid', style)\n",
        "wb.save(\"a.xls\")"
      ],
      "metadata": {
        "id": "RYuGp6RYvwC5"
      },
      "execution_count": null,
      "outputs": []
    },
    {
      "cell_type": "code",
      "source": [
        "sheet = wb.add_sheet(\"g\")\n",
        "xlwt.add_palette_colour(\"custom_blue_color\", 0x21)\n",
        "wb.set_colour_RGB(0x21, 79, 129, 189) # Red — 79, Green — 129, Blue — 189\n",
        "sb = xlwt.easyxf('pattern: pattern solid, fore_colour custom_blue_color')\n",
        "sheet.write(0, 0, \"shirfkan\", sb)\n",
        "wb.save(\"b.xls\")"
      ],
      "metadata": {
        "id": "9U6VPRXcy-NB"
      },
      "execution_count": null,
      "outputs": []
    },
    {
      "cell_type": "code",
      "source": [
        "c = xlwt.easyxf(\"align:vert centre, horiz centre\")\n",
        "b = xlwt.easyxf(\"align:vert bottom, horiz left\")\n",
        "t = xlwt.easyxf(\"align:vert top, horiz right\")\n",
        "f = xlwt.easyxf(\"align:wrap on; font: bold on, color-index red\")\n",
        "\n",
        "sheet.write(1,0, \"ali\", c)\n",
        "sheet.write(2,0, \"maryam\", b)\n",
        "sheet.write(3,0, \"jalal\", t)\n",
        "sheet.write(4,0, \"omid\", f)\n",
        "\n",
        "wb.save(\"f.xls\")"
      ],
      "metadata": {
        "id": "XqaZrR5vwyNZ"
      },
      "execution_count": null,
      "outputs": []
    },
    {
      "cell_type": "code",
      "source": [
        "wb = xlwt.Workbook()\n",
        "sheet = wb.add_sheet('mySheet')\n",
        "\n",
        "#header\n",
        "hf = xlwt.Font()\n",
        "hf.name = 'Arial'\n",
        "hf.bold = True\n",
        "hs = xlwt.XFStyle()\n",
        "hs.font = hf\n",
        "\n",
        "sheet.write(0, 0, 'Name', hs)\n",
        "sheet.write(0, 1, 'Age', hs)\n",
        "\n",
        "sheet.write(1, 0, 'Ali')\n",
        "sheet.write(1, 1, '40')\n",
        "sheet.write(2, 0, 'Hamid')\n",
        "sheet.write(2, 1, '50')\n",
        "\n",
        "wb.save('c.xls')\n"
      ],
      "metadata": {
        "id": "ZKk52cRfvwGU"
      },
      "execution_count": null,
      "outputs": []
    },
    {
      "cell_type": "code",
      "source": [
        "wb = xlrd.open_workbook('t.xls')\n",
        "sheets = wb.sheets()\n",
        "nsheets = wb.nsheets\n",
        "\n",
        "\n",
        "import xlwt\n",
        "wbwt = xlwt.Workbook(encoding='utf-8')\n",
        "ws = wbwt.add_sheet('Sheet1', cell_overwrite_ok=True)\n",
        "\n",
        "nrows = sheets[0].nrows\n",
        "ncols = sheets[0].ncols\n",
        "\n",
        "for i in range(nrows):\n",
        "    for j in range(ncols):\n",
        "        if sheets[0].cell_value(i, j) > 5:\n",
        "            ws.write(i, j, sheets[0].cell_value(i, j))\n",
        "\n",
        "wbwt.save('r.xls')"
      ],
      "metadata": {
        "id": "6I0MSZrKtcLp"
      },
      "execution_count": null,
      "outputs": []
    },
    {
      "cell_type": "code",
      "source": [],
      "metadata": {
        "id": "UHo0BBeCtcO4"
      },
      "execution_count": null,
      "outputs": []
    },
    {
      "cell_type": "code",
      "source": [],
      "metadata": {
        "id": "MEFZaxyktcSG"
      },
      "execution_count": null,
      "outputs": []
    }
  ]
}