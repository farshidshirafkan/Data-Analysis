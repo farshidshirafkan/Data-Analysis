{
  "nbformat": 4,
  "nbformat_minor": 0,
  "metadata": {
    "colab": {
      "provenance": [],
      "authorship_tag": "ABX9TyOG5ZyZQvLCiR5BSyo6gnHg",
      "include_colab_link": true
    },
    "kernelspec": {
      "name": "python3",
      "display_name": "Python 3"
    },
    "language_info": {
      "name": "python"
    }
  },
  "cells": [
    {
      "cell_type": "markdown",
      "metadata": {
        "id": "view-in-github",
        "colab_type": "text"
      },
      "source": [
        "<a href=\"https://colab.research.google.com/github/farshidshirafkan/Data-Analysis/blob/main/xlwt.ipynb\" target=\"_parent\"><img src=\"https://colab.research.google.com/assets/colab-badge.svg\" alt=\"Open In Colab\"/></a>"
      ]
    },
    {
      "cell_type": "code",
      "source": [
        "pip install xlwt"
      ],
      "metadata": {
        "id": "JfRd0AoPtuQt"
      },
      "execution_count": null,
      "outputs": []
    },
    {
      "cell_type": "code",
      "execution_count": null,
      "metadata": {
        "id": "Bm2bovShsQ7g"
      },
      "outputs": [],
      "source": [
        "import xlwt"
      ]
    },
    {
      "cell_type": "code",
      "source": [
        "wb = xlwt.Workbook(encoding='utf-8')\n",
        "ws = wb.add_sheet('Sheet1', cell_overwrite_ok=True)\n",
        "\n",
        "for i in range(5):\n",
        "    for j in range(5):\n",
        "        ws.write(i, j, i*j)\n",
        "\n",
        "wb.save('t.xls')"
      ],
      "metadata": {
        "id": "6qsa0726FT6L"
      },
      "execution_count": null,
      "outputs": []
    },
    {
      "cell_type": "code",
      "source": [
        "wb = xlwt.Workbook()\n",
        "\n",
        "sheet1 = wb.add_sheet('Sheet 1')\n",
        "sheet1.write(0, 0, 'Name')\n",
        "sheet1.write(0, 1, 'Age')\n",
        "sheet1.write(1, 0, 'Ali')\n",
        "sheet1.write(1, 1, '36')\n",
        "sheet1.write(2, 0, 'Nahid')\n",
        "sheet1.write(2, 1, '18')\n",
        "wb.save('testwt.xls')\n"
      ],
      "metadata": {
        "id": "ivWNmr6Itb8b"
      },
      "execution_count": null,
      "outputs": []
    },
    {
      "cell_type": "code",
      "source": [
        "sheet = wb.add_sheet(\"ss\")\n",
        "#sheet = wb.add_sheet(\"ss\", cell_overwrite_ok = False)\n",
        "\n",
        "style = xlwt.easyxf('font: bold 1, color red;')\n",
        "sheet.write(0, 0, 'farshid', style)\n",
        "wb.save(\"a.xls\")"
      ],
      "metadata": {
        "id": "RYuGp6RYvwC5"
      },
      "execution_count": null,
      "outputs": []
    },
    {
      "cell_type": "code",
      "source": [
        "sheet = wb.add_sheet(\"g\")\n",
        "xlwt.add_palette_colour(\"custom_blue_color\", 0x21)\n",
        "wb.set_colour_RGB(0x21, 79, 129, 189) # Red — 79, Green — 129, Blue — 189\n",
        "sb = xlwt.easyxf('pattern: pattern solid, fore_colour custom_blue_color')\n",
        "sheet.write(0, 0, \"shirfkan\", sb)\n",
        "wb.save(\"b.xls\")"
      ],
      "metadata": {
        "id": "9U6VPRXcy-NB"
      },
      "execution_count": null,
      "outputs": []
    },
    {
      "cell_type": "code",
      "source": [
        "wb = xlwt.Workbook()\n",
        "sheet = wb.add_sheet('mySheet')\n",
        "\n",
        "#header\n",
        "hf = xlwt.Font()\n",
        "hf.name = 'Arial'\n",
        "hf.bold = True\n",
        "hs = xlwt.XFStyle()\n",
        "hs.font = hf\n",
        "\n",
        "sheet.write(0, 0, 'Name', hs)\n",
        "sheet.write(0, 1, 'Age', hs)\n",
        "\n",
        "sheet.write(1, 0, 'Ali')\n",
        "sheet.write(1, 1, '40')\n",
        "sheet.write(2, 0, 'Hamid')\n",
        "sheet.write(2, 1, '50')\n",
        "\n",
        "wb.save('c.xls')"
      ],
      "metadata": {
        "id": "ZKk52cRfvwGU"
      },
      "execution_count": null,
      "outputs": []
    },
    {
      "cell_type": "code",
      "source": [
        "wb = xlrd.open_workbook('t.xls')\n",
        "sheets = wb.sheets()\n",
        "nsheets = wb.nsheets\n",
        "\n",
        "import xlwt\n",
        "wbwt = xlwt.Workbook(encoding='utf-8')\n",
        "ws = wbwt.add_sheet('Sheet1', cell_overwrite_ok=True)\n",
        "\n",
        "nrows = sheets[0].nrows\n",
        "ncols = sheets[0].ncols\n",
        "\n",
        "for i in range(nrows):\n",
        "    for j in range(ncols):\n",
        "        if sheets[0].cell_value(i, j) > 5:\n",
        "            ws.write(i, j, sheets[0].cell_value(i, j))\n",
        "\n",
        "wbwt.save('r.xls')"
      ],
      "metadata": {
        "id": "6I0MSZrKtcLp"
      },
      "execution_count": null,
      "outputs": []
    },
    {
      "cell_type": "code",
      "source": [],
      "metadata": {
        "id": "UHo0BBeCtcO4"
      },
      "execution_count": null,
      "outputs": []
    },
    {
      "cell_type": "code",
      "source": [],
      "metadata": {
        "id": "MEFZaxyktcSG"
      },
      "execution_count": null,
      "outputs": []
    }
  ]
}