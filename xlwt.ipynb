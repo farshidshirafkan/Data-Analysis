{
  "nbformat": 4,
  "nbformat_minor": 0,
  "metadata": {
    "colab": {
      "provenance": [],
      "include_colab_link": true
    },
    "kernelspec": {
      "name": "python3",
      "display_name": "Python 3"
    },
    "language_info": {
      "name": "python"
    }
  },
  "cells": [
    {
      "cell_type": "markdown",
      "metadata": {
        "id": "view-in-github",
        "colab_type": "text"
      },
      "source": [
        "<a href=\"https://colab.research.google.com/github/farshidshirafkan/Data-Analysis/blob/main/xlwt.ipynb\" target=\"_parent\"><img src=\"https://colab.research.google.com/assets/colab-badge.svg\" alt=\"Open In Colab\"/></a>"
      ]
    },
    {
      "cell_type": "code",
      "execution_count": 3,
      "metadata": {
        "colab": {
          "base_uri": "https://localhost:8080/"
        },
        "id": "SIaTjDdN8AuC",
        "outputId": "5900e43c-fec7-45d3-c0fa-850baf89ace1"
      },
      "outputs": [
        {
          "output_type": "stream",
          "name": "stdout",
          "text": [
            "Collecting xlwt\n",
            "  Downloading xlwt-1.3.0-py2.py3-none-any.whl (99 kB)\n",
            "\u001b[?25l     \u001b[90m━━━━━━━━━━━━━━━━━━━━━━━━━━━━━━━━━━━━━━━━\u001b[0m \u001b[32m0.0/100.0 kB\u001b[0m \u001b[31m?\u001b[0m eta \u001b[36m-:--:--\u001b[0m\r\u001b[2K     \u001b[90m━━━━━━━━━━━━━━━━━━━━━━━━━━━━━━━━━━━━━━━\u001b[0m \u001b[32m100.0/100.0 kB\u001b[0m \u001b[31m2.9 MB/s\u001b[0m eta \u001b[36m0:00:00\u001b[0m\n",
            "\u001b[?25hInstalling collected packages: xlwt\n",
            "Successfully installed xlwt-1.3.0\n"
          ]
        }
      ],
      "source": [
        "pip install xlwt"
      ]
    },
    {
      "cell_type": "code",
      "source": [
        "import xlwt"
      ],
      "metadata": {
        "id": "bxohvGx68M4b"
      },
      "execution_count": 4,
      "outputs": []
    },
    {
      "cell_type": "code",
      "source": [
        "wb = xlwt.Workbook()\n",
        "ws = wb.add_sheet('sheet 1')\n",
        "ws.write(0,0,\"Hello\")\n",
        "wb.save('t1.xls')"
      ],
      "metadata": {
        "id": "B2_w4K3J8SGL"
      },
      "execution_count": null,
      "outputs": []
    },
    {
      "cell_type": "code",
      "source": [
        "from xlwt import Workbook"
      ],
      "metadata": {
        "id": "mYrpog1Y9F0_"
      },
      "execution_count": 5,
      "outputs": []
    },
    {
      "cell_type": "code",
      "source": [
        "wb = Workbook()\n",
        "ws = wb.add_sheet('test')\n",
        "ws.write(1,1,\"Shirafkan\")\n",
        "ws.col(1).width = 6000\n",
        "wb.save('t2.xls')"
      ],
      "metadata": {
        "id": "trHJlJgV9F86"
      },
      "execution_count": null,
      "outputs": []
    },
    {
      "cell_type": "code",
      "source": [
        "wb = Workbook()\n",
        "ws = wb.add_sheet('test')\n",
        "ws.row(1).write(1,\"Shirafkan\")\n",
        "wb.save('t3.xls')"
      ],
      "metadata": {
        "id": "Vp_80Z839o6F"
      },
      "execution_count": null,
      "outputs": []
    },
    {
      "cell_type": "code",
      "source": [
        "lst = [x for x in range(11,101,2)]\n",
        "lst"
      ],
      "metadata": {
        "colab": {
          "base_uri": "https://localhost:8080/"
        },
        "id": "q9GqVPB5-FWQ",
        "outputId": "c4f5911f-ca34-4c8e-9dd2-a495494869a1"
      },
      "execution_count": null,
      "outputs": [
        {
          "output_type": "execute_result",
          "data": {
            "text/plain": [
              "[11,\n",
              " 13,\n",
              " 15,\n",
              " 17,\n",
              " 19,\n",
              " 21,\n",
              " 23,\n",
              " 25,\n",
              " 27,\n",
              " 29,\n",
              " 31,\n",
              " 33,\n",
              " 35,\n",
              " 37,\n",
              " 39,\n",
              " 41,\n",
              " 43,\n",
              " 45,\n",
              " 47,\n",
              " 49,\n",
              " 51,\n",
              " 53,\n",
              " 55,\n",
              " 57,\n",
              " 59,\n",
              " 61,\n",
              " 63,\n",
              " 65,\n",
              " 67,\n",
              " 69,\n",
              " 71,\n",
              " 73,\n",
              " 75,\n",
              " 77,\n",
              " 79,\n",
              " 81,\n",
              " 83,\n",
              " 85,\n",
              " 87,\n",
              " 89,\n",
              " 91,\n",
              " 93,\n",
              " 95,\n",
              " 97,\n",
              " 99]"
            ]
          },
          "metadata": {},
          "execution_count": 11
        }
      ]
    },
    {
      "cell_type": "code",
      "source": [
        "wb = Workbook()\n",
        "ws = wb.add_sheet('Sheet 1')\n",
        "row = 0\n",
        "for n in lst:\n",
        "  ws.write(row,3,n)\n",
        "  row += 1\n",
        "\n",
        "wb.save('t4.xls')"
      ],
      "metadata": {
        "id": "2dDTCcEj93BO"
      },
      "execution_count": null,
      "outputs": []
    },
    {
      "cell_type": "code",
      "source": [
        "students = [('Ali',19),('Taha',20)]\n",
        "wb = Workbook()\n",
        "ws = wb.add_sheet('Sheet 1')\n",
        "\n",
        "ws.write(0,0,\"Name\")\n",
        "ws.write(0,1,\"Score\")\n",
        "\n",
        "for i in range(2):\n",
        "  ws.write(i+1,0,students[i][0])\n",
        "  ws.write(i+1,1,students[i][1])\n",
        "\n",
        "wb.save('t5.xls')"
      ],
      "metadata": {
        "id": "1uJHko93_B7E"
      },
      "execution_count": null,
      "outputs": []
    },
    {
      "cell_type": "code",
      "source": [
        "from xlwt import easyxf"
      ],
      "metadata": {
        "id": "Fj4Y68HJGz4x"
      },
      "execution_count": 16,
      "outputs": []
    },
    {
      "cell_type": "code",
      "source": [
        "wb = Workbook()\n",
        "ws = wb.add_sheet('Sheet 1')\n",
        "style = easyxf('font:name Arial, colour red,bold True,height 200')\n",
        "ws.write(0,0,'Farshid',style)\n",
        "wb.save('t6.xls')"
      ],
      "metadata": {
        "id": "Zy3EOxq0H2es"
      },
      "execution_count": null,
      "outputs": []
    },
    {
      "cell_type": "code",
      "source": [
        "wb = Workbook()\n",
        "ws = wb.add_sheet('Sheet 1')\n",
        "style = easyxf('font:name Arial,height 200;align:horiz centre')\n",
        "ws.write(2,2,'Taha',style)\n",
        "wb.save('t7.xls')"
      ],
      "metadata": {
        "id": "iSejvmawI_Es"
      },
      "execution_count": null,
      "outputs": []
    },
    {
      "cell_type": "code",
      "source": [
        "wb = Workbook()\n",
        "ws = wb.add_sheet('Sheet 1')\n",
        "style = easyxf('pattern: pattern solid, fore_colour grey25')\n",
        "ws.write(1,2,'Mahsa',style)\n",
        "wb.save('t8.xls')"
      ],
      "metadata": {
        "id": "BjQzMmV2JZmY"
      },
      "execution_count": null,
      "outputs": []
    },
    {
      "cell_type": "code",
      "source": [
        "wb = Workbook()\n",
        "ws = wb.add_sheet('Sheet 1')\n",
        "style = easyxf('border:left thick,right thick,top thick,bottom thick')\n",
        "ws.write(3,4,'Ali',style)\n",
        "wb.save('t9.xls')"
      ],
      "metadata": {
        "id": "INrfJPA7J2J1"
      },
      "execution_count": null,
      "outputs": []
    },
    {
      "cell_type": "code",
      "source": [
        "wb = Workbook()\n",
        "ws = wb.add_sheet('Sheet 1')\n",
        "style = easyxf('border:left thick',num_format_str='YYYY-MM-DD')\n",
        "ws.write(3,4,date(1973,3,3),style)\n",
        "wb.save('t10.xls')"
      ],
      "metadata": {
        "id": "rW_ayzU8KWEh"
      },
      "execution_count": null,
      "outputs": []
    },
    {
      "cell_type": "code",
      "source": [
        "wb = Workbook()\n",
        "ws = wb.add_sheet('Sheet 1')\n",
        "style = easyxf('font:name Arial,height 200;align:horiz centre;border:left thick,right thick,top thick,bottom thick;pattern: pattern solid, fore_colour grey25;',num_format_str='YYYY-MM-DD')\n",
        "ws.write(3,4,date(1973,3,3),style)\n",
        "wb.save('t11.xls')"
      ],
      "metadata": {
        "id": "-sPShRLkLCiG"
      },
      "execution_count": null,
      "outputs": []
    },
    {
      "cell_type": "code",
      "source": [
        "# example"
      ],
      "metadata": {
        "id": "7SODWOx-hpZf"
      },
      "execution_count": null,
      "outputs": []
    },
    {
      "cell_type": "code",
      "source": [
        "data = [\n",
        "  ['Taha', 10],\n",
        "  ['Farshid',50],\n",
        "  ['Mahsa', 40],\n",
        "  ['Mina', 52]\n",
        "]"
      ],
      "metadata": {
        "id": "eO6tRdOkhp2J"
      },
      "execution_count": 9,
      "outputs": []
    },
    {
      "cell_type": "code",
      "source": [
        "wb = Workbook()\n",
        "ws = wb.add_sheet('Sheet 1')\n",
        "\n",
        "for i,item1 in enumerate(data):\n",
        "  for j,item2 in enumerate(item1):\n",
        "     ws.write(i, j, item2)\n",
        "\n",
        "wb.save('age.xls')"
      ],
      "metadata": {
        "id": "5I7BtRryitkz"
      },
      "execution_count": 12,
      "outputs": []
    },
    {
      "cell_type": "code",
      "source": [
        "wb = Workbook()\n",
        "ws = wb.add_sheet('Sheet 1')\n",
        "\n",
        "ws.write(0,0,'Name')\n",
        "ws.write(0,1,'Age')\n",
        "\n",
        "for i,item1 in enumerate(data, start=1):\n",
        "  for j,item2 in enumerate(item1):\n",
        "     ws.write(i, j, item2)\n",
        "\n",
        "wb.save('age2.xls')"
      ],
      "metadata": {
        "id": "ocFVGEf2j1La"
      },
      "execution_count": 13,
      "outputs": []
    },
    {
      "cell_type": "code",
      "source": [
        "wb = Workbook()\n",
        "ws = wb.add_sheet('Sheet 1')\n",
        "\n",
        "header = ['Name', 'Age']\n",
        "style = easyxf('pattern: pattern solid, fore_colour grey25;align:horiz centre')\n",
        "for col,item in enumerate(header):\n",
        "  ws.write(0,col,item,style)\n",
        "\n",
        "style2 = easyxf('align:horiz centre')\n",
        "for i,item1 in enumerate(data, start=1):\n",
        "  for j,item2 in enumerate(item1):\n",
        "     ws.write(i, j, item2, style2)\n",
        "\n",
        "wb.save('age3.xls')"
      ],
      "metadata": {
        "id": "jxlzWeWxkWuh"
      },
      "execution_count": 19,
      "outputs": []
    }
  ]
}